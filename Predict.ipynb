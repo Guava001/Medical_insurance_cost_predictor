{
 "cells": [
  {
   "cell_type": "code",
   "execution_count": 1,
   "id": "66623f36",
   "metadata": {},
   "outputs": [],
   "source": [
    "import pickle\n",
    "import numpy as np\n",
    "import pandas as pd"
   ]
  },
  {
   "cell_type": "code",
   "execution_count": 2,
   "id": "86ce525f",
   "metadata": {},
   "outputs": [],
   "source": [
    "pipe = pickle.load(open('pipe2.pkl','rb'))"
   ]
  },
  {
   "cell_type": "code",
   "execution_count": 9,
   "id": "e2405379",
   "metadata": {},
   "outputs": [],
   "source": [
    "#assume user input\n",
    "test_input1= np.array([37,'female',27.74,3,'no','northwest'],dtype= object).reshape(1,-1)\n",
    "# 37\tfemale\t27.74\t3\tno\tnorthwest ---->  7281.5056"
   ]
  },
  {
   "cell_type": "code",
   "execution_count": 10,
   "id": "1dd1b08e",
   "metadata": {},
   "outputs": [],
   "source": [
    "# Create a DataFrame with appropriate feature names\n",
    "columns = ['age', 'sex', 'bmi', 'children', 'smoker', 'region']\n",
    "test_input1_df = pd.DataFrame(test_input1, columns=columns)"
   ]
  },
  {
   "cell_type": "code",
   "execution_count": 11,
   "id": "cbb04fe2",
   "metadata": {},
   "outputs": [],
   "source": [
    "p=pipe.predict(test_input1_df)"
   ]
  },
  {
   "cell_type": "code",
   "execution_count": 12,
   "id": "7f433bfa",
   "metadata": {},
   "outputs": [
    {
     "name": "stdout",
     "output_type": "stream",
     "text": [
      "The insurance cost in USD 7996.47649483108\n"
     ]
    }
   ],
   "source": [
    "print('The insurance cost in USD', p[0])"
   ]
  },
  {
   "cell_type": "code",
   "execution_count": null,
   "id": "954837ac",
   "metadata": {},
   "outputs": [],
   "source": []
  }
 ],
 "metadata": {
  "kernelspec": {
   "display_name": "Python 3 (ipykernel)",
   "language": "python",
   "name": "python3"
  },
  "language_info": {
   "codemirror_mode": {
    "name": "ipython",
    "version": 3
   },
   "file_extension": ".py",
   "mimetype": "text/x-python",
   "name": "python",
   "nbconvert_exporter": "python",
   "pygments_lexer": "ipython3",
   "version": "3.11.5"
  }
 },
 "nbformat": 4,
 "nbformat_minor": 5
}
